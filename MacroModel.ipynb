{
  "cells": [
    {
      "cell_type": "code",
      "source": [
        "pip install yfinance"
      ],
      "metadata": {
        "id": "tczANJr9SYxz"
      },
      "execution_count": null,
      "outputs": []
    },
    {
      "cell_type": "code",
      "source": [
        "pip install fredapi"
      ],
      "metadata": {
        "id": "Zv5dG76lSbTg"
      },
      "execution_count": null,
      "outputs": []
    },
    {
      "cell_type": "code",
      "execution_count": null,
      "metadata": {
        "id": "Z0AteFbT79F0"
      },
      "outputs": [],
      "source": [
        "import pandas as pd\n",
        "import math\n",
        "import numpy as np\n",
        "import fredapi as fd\n",
        "import yfinance as yf\n",
        "from matplotlib import pyplot as plt\n",
        "import seaborn as sns"
      ]
    },
    {
      "cell_type": "code",
      "execution_count": null,
      "metadata": {
        "id": "Me-SvcFmV6hY"
      },
      "outputs": [],
      "source": [
        "fred = fd.Fred(api_key = 'bde7928ce1d3cc555b5d2fb725f0ef4b')"
      ]
    },
    {
      "cell_type": "code",
      "execution_count": null,
      "metadata": {
        "id": "Mt5WxLCfWQKS"
      },
      "outputs": [],
      "source": [
        "cli = pd.DataFrame(fred.get_series('USALOLITONOSTSAM', frequency= 'q', aggregation_method= 'eop' ).dropna()) #GDP\n",
        "ppi = pd.DataFrame(fred.get_series('PPIACO', units= 'pc1', frequency= 'q', aggregation_method= 'eop').dropna()) #Inflation\n",
        "yc = pd.DataFrame(fred.get_series('T10Y2Y', units= 'lin', frequency= 'q', aggregation_method= 'avg').shift().dropna()) #Monetary Policy (Yeild Curve)\n",
        "economic_data = pd.merge(cli, ppi, right_index = True, left_index = True)\n",
        "economic_data = pd.merge(economic_data, yc, right_index = True, left_index = True)\n",
        "economic_data.columns = ['CLI', 'PPI', 'YC']\n",
        "economic_data.index.name = 'Date'\n",
        "economic_data"
      ]
    },
    {
      "cell_type": "code",
      "execution_count": null,
      "metadata": {
        "id": "AzP8YOjCbXXg"
      },
      "outputs": [],
      "source": [
        "ticker = 'SPY'\n",
        "start_date = '1980-05-22'\n",
        "end_date = '2023-05-29'\n",
        "interval = '3mo'\n",
        "financial_data = yf.download(ticker, start = start_date, end = end_date, interval= interval)\n",
        "financial_data = financial_data['Adj Close']\n",
        "financial_data"
      ]
    },
    {
      "cell_type": "code",
      "execution_count": null,
      "metadata": {
        "id": "G-ff8kn6cIo5"
      },
      "outputs": [],
      "source": [
        "df = pd.merge(economic_data, financial_data, left_index = True, right_index =True )\n",
        "df['Quarterly Return'] = df['Adj Close'].pct_change().mul(100)\n",
        "df['CLIfd'] = df['CLI'].diff()\n",
        "df['PPIfd'] = df['PPI'].diff()\n",
        "df['ycfd'] = df['YC'].diff()\n",
        "df = df.dropna()\n",
        "df"
      ]
    },
    {
      "cell_type": "code",
      "source": [
        "df['mean CLIfd'] = df['CLIfd'].rolling(8).mean()\n",
        "df['std CLIfd'] = df['CLIfd'].rolling(8).std()\n",
        "df['mean PPIfd'] = df['PPIfd'].rolling(8).mean()\n",
        "df['std PPIfd'] = df['PPIfd'].rolling(8).std()\n",
        "df = df.dropna()"
      ],
      "metadata": {
        "id": "CVyBOxKetwP1"
      },
      "execution_count": null,
      "outputs": []
    },
    {
      "cell_type": "code",
      "source": [
        "df['CLI z'] = ( df['CLIfd'] - df['mean CLIfd'] ) / df['std CLIfd']\n",
        "df['PPI z'] = ( df['PPIfd'] - df['mean PPIfd'] ) / df['std PPIfd']"
      ],
      "metadata": {
        "id": "UE4IXvjFu0ev"
      },
      "execution_count": null,
      "outputs": []
    },
    {
      "cell_type": "code",
      "source": [
        "df"
      ],
      "metadata": {
        "id": "CcCMUGg016MB"
      },
      "execution_count": null,
      "outputs": []
    },
    {
      "cell_type": "code",
      "source": [
        "df['Decile CLI'] = pd.qcut(df['CLI z'], 5, labels=False)\n",
        "df['Decile PPI'] = pd.qcut(df['PPI z'], 5, labels=False)"
      ],
      "metadata": {
        "id": "n-yPZr_I2w_l"
      },
      "execution_count": null,
      "outputs": []
    },
    {
      "cell_type": "code",
      "source": [
        "df"
      ],
      "metadata": {
        "id": "n97dMOOB6NMQ"
      },
      "execution_count": null,
      "outputs": []
    },
    {
      "cell_type": "code",
      "execution_count": null,
      "metadata": {
        "id": "WUiyeQDAkICv"
      },
      "outputs": [],
      "source": [
        "conditions= [\n",
        "    (df[\"CLIfd\"]>0) & (df[\"PPIfd\"]>0),\n",
        "    (df[\"CLIfd\"]<0) & (df[\"PPIfd\"]<0),\n",
        "    (df[\"CLIfd\"]>0) & (df[\"PPIfd\"]<0),\n",
        "    (df[\"CLIfd\"]<0) & (df[\"PPIfd\"]>0),\n",
        "    ]\n",
        "\n",
        "values = ['2','4','1','3']\n",
        "\n",
        "df['Quad'] = np.select(conditions, values)\n",
        "df"
      ]
    },
    {
      "cell_type": "code",
      "source": [
        "conditions= [\n",
        "    (df[\"ycfd\"]>=0) & (df[\"YC\"]<0),\n",
        "    (df[\"ycfd\"]<0) & (df[\"YC\"]>0),\n",
        "    (df[\"ycfd\"]>=0) & (df[\"YC\"]>0),\n",
        "    (df[\"ycfd\"]<0) & (df[\"YC\"]<0),\n",
        "     ]\n",
        "\n",
        "values = ['fu','fd', 'su', 'in']\n",
        "\n",
        "df['ycmc'] = np.select(conditions, values)\n",
        "df"
      ],
      "metadata": {
        "id": "x5FFZb9GxT4d"
      },
      "execution_count": null,
      "outputs": []
    },
    {
      "cell_type": "code",
      "source": [
        "df['QDYC'] = df['Quad'].astype('str')+\",\"+ df['ycmc'].astype('str')\n",
        "df"
      ],
      "metadata": {
        "id": "NRMoBE4Jx-AH"
      },
      "execution_count": null,
      "outputs": []
    },
    {
      "cell_type": "code",
      "source": [
        "df['QGrowth'] = df['Quad'].astype('str')+\",\"+ df['Decile CLI'].astype('str')\n",
        "df['QInflation'] = df['Quad'].astype('str')+\",\"+ df['Decile PPI'].astype('str')"
      ],
      "metadata": {
        "id": "ouH-GifCAGjw"
      },
      "execution_count": null,
      "outputs": []
    },
    {
      "cell_type": "code",
      "source": [
        "df"
      ],
      "metadata": {
        "id": "NY-d9LEzA090"
      },
      "execution_count": null,
      "outputs": []
    },
    {
      "cell_type": "code",
      "source": [
        "df.groupby(['QGrowth'])['Quarterly Return'].describe()"
      ],
      "metadata": {
        "id": "9ZxtaKIcBFFk"
      },
      "execution_count": null,
      "outputs": []
    },
    {
      "cell_type": "code",
      "source": [
        "df.groupby(['QInflation'])['Quarterly Return'].describe()"
      ],
      "metadata": {
        "id": "2CZyyaHuBHVD"
      },
      "execution_count": null,
      "outputs": []
    },
    {
      "cell_type": "code",
      "source": [
        "df.groupby(['ycmc'])['Quarterly Return'].describe()"
      ],
      "metadata": {
        "id": "kdDpilDOVa1l"
      },
      "execution_count": null,
      "outputs": []
    },
    {
      "cell_type": "code",
      "source": [
        "df.groupby(['QDYC'])['Quarterly Return'].describe()"
      ],
      "metadata": {
        "id": "20AKN_ckyTxE"
      },
      "execution_count": null,
      "outputs": []
    },
    {
      "cell_type": "code",
      "execution_count": null,
      "metadata": {
        "id": "ui_0LOCCl1md"
      },
      "outputs": [],
      "source": [
        "df.groupby(['Quad'])['Quarterly Return'].describe()"
      ]
    },
    {
      "cell_type": "code",
      "source": [
        "df.groupby(['Quad'])['Quarterly Return'].median()"
      ],
      "metadata": {
        "id": "9Iv9ybdtlAar"
      },
      "execution_count": null,
      "outputs": []
    },
    {
      "cell_type": "code",
      "source": [
        "df.groupby(['Quad'])['Quarterly Return'].mean().mul(4)"
      ],
      "metadata": {
        "id": "sUAQVYvbdkce"
      },
      "execution_count": null,
      "outputs": []
    },
    {
      "cell_type": "code",
      "execution_count": null,
      "metadata": {
        "id": "vMFALtyGsOo2"
      },
      "outputs": [],
      "source": [
        "df.groupby(['Quad'])['Quarterly Return'].std().mul(math.sqrt(4))"
      ]
    },
    {
      "cell_type": "code",
      "source": [
        "df['Positive Returns'] = (df['Quarterly Return']>0)\n",
        "(df.groupby(['Quad'])['Positive Returns'].value_counts()/df.groupby(['Quad'])['Quarterly Return'].count()).mul(100)"
      ],
      "metadata": {
        "id": "V_BN7-1zWeY_"
      },
      "execution_count": null,
      "outputs": []
    },
    {
      "cell_type": "code",
      "source": [
        "(df.groupby(['QDYC'])['Positive Returns'].value_counts()/df.groupby(['QDYC'])['Quarterly Return'].count()).mul(100)"
      ],
      "metadata": {
        "id": "KoLfOD7OFZEs"
      },
      "execution_count": null,
      "outputs": []
    },
    {
      "cell_type": "code",
      "source": [
        "def addlabels(x,y):\n",
        "  for i in range(len(x)):\n",
        "    plt.text(i, y[i]+0.04, y[i], ha = 'center')\n",
        "\n",
        "plt.figure(figsize=(6,6))\n",
        "sharpe= pd.DataFrame(df.groupby(['Quad'])['Quarterly Return'].mean().mul(4)/df.groupby(['Quad'])['Quarterly Return'].std().mul(math.sqrt(4)))\n",
        "plt.bar(sharpe.index, sharpe['Quarterly Return'])\n",
        "addlabels(sharpe.index, sharpe['Quarterly Return'].round(2))"
      ],
      "metadata": {
        "id": "EHb5DCuSxlO9"
      },
      "execution_count": null,
      "outputs": []
    },
    {
      "cell_type": "code",
      "source": [
        "df['Quarterly Return'].hist(by=df['Quad'])\n",
        "plt.show()"
      ],
      "metadata": {
        "id": "4roVGjfFH0sa"
      },
      "execution_count": null,
      "outputs": []
    },
    {
      "cell_type": "code",
      "source": [
        "fig, ax = plt.subplots(figsize=(5,5))\n",
        "df.boxplot(column=['Quarterly Return'], by= 'Quad', ax=ax)\n",
        "plt.show()"
      ],
      "metadata": {
        "id": "wJOCn0q-JVIi"
      },
      "execution_count": null,
      "outputs": []
    },
    {
      "cell_type": "code",
      "source": [
        "fig, ax = plt.subplots(figsize=(8,8))\n",
        "sns.violinplot(data=df, x=\"Quarterly Return\", y=\"Quad\", linewidth=2, ax=ax)\n",
        "plt.show()"
      ],
      "metadata": {
        "id": "0NOz6c3te4rz"
      },
      "execution_count": null,
      "outputs": []
    },
    {
      "cell_type": "code",
      "source": [
        "df.groupby(['Quad'])['Quarterly Return'].skew()"
      ],
      "metadata": {
        "id": "GTNWL2RSH2Bn"
      },
      "execution_count": null,
      "outputs": []
    },
    {
      "cell_type": "markdown",
      "source": [
        "Bayesian Backtest"
      ],
      "metadata": {
        "id": "nlJVQX978x2K"
      }
    },
    {
      "cell_type": "code",
      "source": [
        "df['Shift'] = df['Quad'].shift().dropna()\n",
        "df['Prior Quad'] = df['Shift'].astype('str')+\",\"+ df['Quad'].astype('str')\n",
        "df= df.dropna()\n",
        "df"
      ],
      "metadata": {
        "id": "zkl68HJx7g1h"
      },
      "execution_count": null,
      "outputs": []
    },
    {
      "cell_type": "code",
      "source": [
        "df.groupby(['Prior Quad'])['Quarterly Return'].describe()"
      ],
      "metadata": {
        "id": "J7AbnpT08UmT"
      },
      "execution_count": null,
      "outputs": []
    },
    {
      "cell_type": "code",
      "source": [
        "def addlabels(x,y):\n",
        "  for i in range(len(x)):\n",
        "    plt.text(i, y[i]+0.04, y[i], ha = 'center')\n",
        "\n",
        "plt.figure(figsize=(6,6))\n",
        "psharpe= pd.DataFrame(df.groupby(['Prior Quad'])['Quarterly Return'].mean().mul(4)/df.groupby(['Prior Quad'])['Quarterly Return'].std().mul(math.sqrt(4)))\n",
        "plt.bar(psharpe.index, psharpe['Quarterly Return'])\n",
        "addlabels(psharpe.index, psharpe['Quarterly Return'].round(2))"
      ],
      "metadata": {
        "id": "XS0F6eVf8c4Q"
      },
      "execution_count": null,
      "outputs": []
    },
    {
      "cell_type": "code",
      "source": [
        "(df.groupby(['Prior Quad'])['Positive Returns'].value_counts()/df.groupby(['Prior Quad'])['Quarterly Return'].count()).mul(100)"
      ],
      "metadata": {
        "id": "cDwg-LYf88WD"
      },
      "execution_count": null,
      "outputs": []
    }
  ],
  "metadata": {
    "colab": {
      "provenance": []
    },
    "kernelspec": {
      "display_name": "Python 3",
      "name": "python3"
    },
    "language_info": {
      "name": "python"
    }
  },
  "nbformat": 4,
  "nbformat_minor": 0
}